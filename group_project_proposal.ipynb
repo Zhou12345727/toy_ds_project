{
 "cells": [
  {
   "cell_type": "markdown",
   "id": "4035698c-b6af-4376-a2b2-1857215464d3",
   "metadata": {},
   "source": [
    "## group_project_prososal\n",
    "project creation date: Jane 8, 2023 \n",
    "\n",
    "Author Xiaomeng Zhou, Ruodan Deng, Natalia He, Haoyu You"
   ]
  },
  {
   "cell_type": "code",
   "execution_count": null,
   "id": "f7670d34-df8c-4980-bd0a-58770cb55326",
   "metadata": {},
   "outputs": [],
   "source": []
  }
 ],
 "metadata": {
  "kernelspec": {
   "display_name": "R",
   "language": "R",
   "name": "ir"
  },
  "language_info": {
   "codemirror_mode": "r",
   "file_extension": ".r",
   "mimetype": "text/x-r-source",
   "name": "R",
   "pygments_lexer": "r",
   "version": "4.1.3"
  }
 },
 "nbformat": 4,
 "nbformat_minor": 5
}
